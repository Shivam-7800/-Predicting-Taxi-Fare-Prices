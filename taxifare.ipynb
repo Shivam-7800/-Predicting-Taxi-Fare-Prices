{
 "cells": [
  {
   "cell_type": "code",
   "execution_count": 1,
   "id": "189424af",
   "metadata": {
    "_cell_guid": "b1076dfc-b9ad-4769-8c92-a6c4dae69d19",
    "_uuid": "8f2839f25d086af736a60e9eeb907d3b93b6e0e5",
    "execution": {
     "iopub.execute_input": "2024-04-04T16:47:28.411165Z",
     "iopub.status.busy": "2024-04-04T16:47:28.410777Z",
     "iopub.status.idle": "2024-04-04T16:47:28.423611Z",
     "shell.execute_reply": "2024-04-04T16:47:28.422563Z"
    },
    "papermill": {
     "duration": 0.020423,
     "end_time": "2024-04-04T16:47:28.426141",
     "exception": false,
     "start_time": "2024-04-04T16:47:28.405718",
     "status": "completed"
    },
    "tags": []
   },
   "outputs": [],
   "source": [
    "import numpy as np # linear algebra"
   ]
  },
  {
   "cell_type": "code",
   "execution_count": 2,
   "id": "77dfb3d2",
   "metadata": {
    "execution": {
     "iopub.execute_input": "2024-04-04T16:47:28.433835Z",
     "iopub.status.busy": "2024-04-04T16:47:28.433036Z",
     "iopub.status.idle": "2024-04-04T16:48:11.309417Z",
     "shell.execute_reply": "2024-04-04T16:48:11.308082Z"
    },
    "papermill": {
     "duration": 42.883902,
     "end_time": "2024-04-04T16:48:11.312629",
     "exception": false,
     "start_time": "2024-04-04T16:47:28.428727",
     "status": "completed"
    },
    "tags": []
   },
   "outputs": [],
   "source": [
    "import pandas as pd\n",
    "from sklearn.ensemble import RandomForestRegressor\n",
    "from sklearn.linear_model import LinearRegression\n",
    "from sklearn.model_selection import train_test_split\n",
    "from xgboost import XGBRegressor\n",
    "from sklearn.metrics import mean_squared_log_error\n",
    "data = pd.read_csv('/kaggle/input/new-york-city-taxi-fare-prediction/train.csv' , nrows = 10000000)\n",
    "# data[\"pickup_longitude\"].describe()\n",
    "# Remove data with extreme outlier coordinates or negative fares\n",
    "data = data.query('pickup_latitude > 40.7 and pickup_latitude < 40.8 and ' +\n",
    "                  'dropoff_latitude > 40.7 and dropoff_latitude < 40.8 and ' +\n",
    "                  'pickup_longitude > -74 and pickup_longitude < -73.9 and ' +\n",
    "                  'dropoff_longitude > -74 and dropoff_longitude < -73.9 and ' +\n",
    "                  'fare_amount > 0'\n",
    "                  )\n",
    "\n",
    "y = data.fare_amount\n",
    "\n",
    "\n",
    "\n",
    "# train_X, val_X, train_y, val_y = train_test_split(X, y, random_state=1)\n",
    "# first_model = RandomForestRegressor(n_estimators=50, random_state=1).fit(train_X, train_y)"
   ]
  },
  {
   "cell_type": "code",
   "execution_count": 3,
   "id": "7d0cb926",
   "metadata": {
    "execution": {
     "iopub.execute_input": "2024-04-04T16:48:11.319398Z",
     "iopub.status.busy": "2024-04-04T16:48:11.319011Z",
     "iopub.status.idle": "2024-04-04T16:51:34.301239Z",
     "shell.execute_reply": "2024-04-04T16:51:34.299910Z"
    },
    "papermill": {
     "duration": 202.989512,
     "end_time": "2024-04-04T16:51:34.304854",
     "exception": false,
     "start_time": "2024-04-04T16:48:11.315342",
     "status": "completed"
    },
    "tags": []
   },
   "outputs": [],
   "source": [
    "# create new features\n",
    "data['abs_lon_change'] = abs(data.dropoff_longitude - data.pickup_longitude)\n",
    "data['abs_lat_change'] = abs(data.dropoff_latitude - data.pickup_latitude)\n",
    "\n",
    "features_2  = ['pickup_longitude',\n",
    "               'pickup_latitude',\n",
    "               'dropoff_longitude',\n",
    "               'dropoff_latitude',\n",
    "               'abs_lat_change',\n",
    "               'abs_lon_change']\n",
    "\n",
    "X = data[features_2]\n",
    "new_train_X, new_val_X, new_train_y, new_val_y = train_test_split(X, y, random_state=1)\n",
    "second_model = XGBRegressor(n_estimators=1000, random_state=1, n_jobs = 16).fit(new_train_X, new_train_y)"
   ]
  },
  {
   "cell_type": "code",
   "execution_count": 4,
   "id": "1b37db95",
   "metadata": {
    "execution": {
     "iopub.execute_input": "2024-04-04T16:51:34.312269Z",
     "iopub.status.busy": "2024-04-04T16:51:34.311891Z",
     "iopub.status.idle": "2024-04-04T16:51:34.505128Z",
     "shell.execute_reply": "2024-04-04T16:51:34.504090Z"
    },
    "papermill": {
     "duration": 0.200278,
     "end_time": "2024-04-04T16:51:34.508227",
     "exception": false,
     "start_time": "2024-04-04T16:51:34.307949",
     "status": "completed"
    },
    "tags": []
   },
   "outputs": [],
   "source": [
    "test = pd.read_csv('/kaggle/input/new-york-city-taxi-fare-prediction/test.csv')\n",
    "test['abs_lon_change'] = abs(test.dropoff_longitude - test.pickup_longitude)\n",
    "test['abs_lat_change'] = abs(test.dropoff_latitude - test.pickup_latitude)\n",
    "X_test = test[features_2]\n",
    "\n",
    "preds_test = second_model.predict(X_test)\n",
    "submission_df=pd.DataFrame(test['key'])\n",
    "submission_df['fare_amount']=pd.Series(preds_test)\n",
    "submission_df.to_csv('submission.csv',index=False)"
   ]
  }
 ],
 "metadata": {
  "kaggle": {
   "accelerator": "none",
   "dataSources": [
    {
     "databundleVersionId": 61318,
     "sourceId": 10170,
     "sourceType": "competition"
    }
   ],
   "dockerImageVersionId": 30673,
   "isGpuEnabled": false,
   "isInternetEnabled": true,
   "language": "python",
   "sourceType": "notebook"
  },
  "kernelspec": {
   "display_name": "Python 3",
   "language": "python",
   "name": "python3"
  },
  "language_info": {
   "codemirror_mode": {
    "name": "ipython",
    "version": 3
   },
   "file_extension": ".py",
   "mimetype": "text/x-python",
   "name": "python",
   "nbconvert_exporter": "python",
   "pygments_lexer": "ipython3",
   "version": "3.10.13"
  },
  "papermill": {
   "default_parameters": {},
   "duration": 250.108857,
   "end_time": "2024-04-04T16:51:35.635423",
   "environment_variables": {},
   "exception": null,
   "input_path": "__notebook__.ipynb",
   "output_path": "__notebook__.ipynb",
   "parameters": {},
   "start_time": "2024-04-04T16:47:25.526566",
   "version": "2.5.0"
  }
 },
 "nbformat": 4,
 "nbformat_minor": 5
}
